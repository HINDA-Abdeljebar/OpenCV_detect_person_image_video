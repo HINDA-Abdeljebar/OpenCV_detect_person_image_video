{
 "cells": [
  {
   "cell_type": "code",
   "execution_count": null,
   "id": "9ab878fd",
   "metadata": {},
   "outputs": [
    {
     "name": "stdout",
     "output_type": "stream",
     "text": [
      "Human Detected : 5\n"
     ]
    }
   ],
   "source": [
    "import cv2\n",
    "\n",
    "# Load the image\n",
    "image = cv2.imread(\"C:\\\\Users\\\\USER\\\\Desktop\\\\MASTER-QL\\\\Python\\\\person_3.png\")\n",
    "\n",
    "# initialize the HOG descriptor\n",
    "hog = cv2.HOGDescriptor()\n",
    "hog.setSVMDetector(cv2.HOGDescriptor_getDefaultPeopleDetector())\n",
    "\n",
    "# detect humans in input image\n",
    "(humans, _) = hog.detectMultiScale(image, winStride=(10, 10),\n",
    "padding=(32, 32), scale=1.1)\n",
    "\n",
    "# getting no. of human detected\n",
    "\n",
    "print(\"Human Detected :\",len(humans))\n",
    "\n",
    "# loop over all detected humans\n",
    "for (x, y, w, h) in humans:\n",
    "   pad_w, pad_h = int(0.15 * w), int(0.01 * h)\n",
    "   cv2.rectangle(image, (x + pad_w, y + pad_h), (x + w - pad_w, y + h - pad_h), (0, 255, 0), 2)\n",
    "\n",
    "# display the output image\n",
    "cv2.imshow( \"image \", image)\n",
    "cv2.waitKey(0)\n",
    "cv2.destroyAllWindows()\n",
    "'''\n",
    "/////////////////////   hada b file cascade.xml ms kayaetixi natija mezyana //////////////////\n",
    "\n",
    "# Pre-process the image\n",
    "gray = cv2.cvtColor(image, cv2.COLOR_BGR2GRAY)\n",
    "\n",
    "# Load the pre-trained Haar cascades for detecting people\n",
    "classifier = cv2.CascadeClassifier(\"C:\\\\Users\\\\USER\\\\Desktop\\\\MASTER-QL\\\\Python\\\\haarcascade_fullbody.xml\")\n",
    "\n",
    "# Detect people in the image\n",
    "bodies = classifier.detectMultiScale(gray)\n",
    "\n",
    "# Draw bounding boxes around the detected people and count them\n",
    "for (x,y,w,h) in bodies:\n",
    "    cv2.rectangle(image, (x,y), (x+w,y+h), (0,255,0), 2)\n",
    "\n",
    "print(\"Number of people detected:\", len(bodies))\n",
    "\n",
    "# Show the image\n",
    "cv2.imshow(\"People detection\", image)\n",
    "cv2.waitKey(0)'''\n",
    "\n",
    "\n",
    "\n"
   ]
  },
  {
   "cell_type": "code",
   "execution_count": null,
   "id": "9370b105",
   "metadata": {},
   "outputs": [],
   "source": []
  },
  {
   "cell_type": "code",
   "execution_count": null,
   "id": "cc8edc5e",
   "metadata": {},
   "outputs": [],
   "source": []
  }
 ],
 "metadata": {
  "kernelspec": {
   "display_name": "Python 3 (ipykernel)",
   "language": "python",
   "name": "python3"
  },
  "language_info": {
   "codemirror_mode": {
    "name": "ipython",
    "version": 3
   },
   "file_extension": ".py",
   "mimetype": "text/x-python",
   "name": "python",
   "nbconvert_exporter": "python",
   "pygments_lexer": "ipython3",
   "version": "3.7.13"
  }
 },
 "nbformat": 4,
 "nbformat_minor": 5
}
